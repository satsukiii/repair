{
 "cells": [
  {
   "cell_type": "code",
   "execution_count": 1,
   "metadata": {},
   "outputs": [
    {
     "name": "stderr",
     "output_type": "stream",
     "text": [
      "Using TensorFlow backend.\n"
     ]
    }
   ],
   "source": [
    "import warnings\n",
    "warnings.filterwarnings('ignore')\n",
    "import numpy as np\n",
    "import pandas as pd\n",
    "import matplotlib.pyplot as plt\n",
    "from tqdm import tqdm\n",
    "import time\n",
    "import seaborn as sns\n",
    "%matplotlib inline\n",
    "plt.style.use('ggplot')\n",
    "plt.rcParams.update({'font.size':15})\n",
    "from sklearn.model_selection import train_test_split\n",
    "from sklearn.metrics import confusion_matrix\n",
    "from sklearn.ensemble import RandomForestClassifier\n",
    "from sklearn.metrics import f1_score\n",
    "from sklearn.model_selection import StratifiedKFold\n",
    "from imblearn.under_sampling import RandomUnderSampler\n",
    "from imblearn.under_sampling import TomekLinks\n",
    "# from imblearn.under_sampling import ClusterCentroids"
   ]
  },
  {
   "cell_type": "code",
   "execution_count": 25,
   "metadata": {
    "collapsed": true
   },
   "outputs": [],
   "source": [
    "df = pd.read_csv(\"data.csv\",index_col=[0])"
   ]
  },
  {
   "cell_type": "code",
   "execution_count": 5,
   "metadata": {},
   "outputs": [
    {
     "data": {
      "text/plain": [
       "(179994, 602)"
      ]
     },
     "execution_count": 5,
     "metadata": {},
     "output_type": "execute_result"
    }
   ],
   "source": [
    "df.shape"
   ]
  },
  {
   "cell_type": "markdown",
   "metadata": {},
   "source": [
    "### 頻出100部品に絞る"
   ]
  },
  {
   "cell_type": "code",
   "execution_count": 3,
   "metadata": {
    "collapsed": true
   },
   "outputs": [],
   "source": [
    "sam1 = df.iloc[:, 3:].sum()"
   ]
  },
  {
   "cell_type": "code",
   "execution_count": 4,
   "metadata": {
    "collapsed": true
   },
   "outputs": [],
   "source": [
    "sam1 =sam1.sort_values(ascending=False)[100:]"
   ]
  },
  {
   "cell_type": "code",
   "execution_count": 5,
   "metadata": {
    "collapsed": true
   },
   "outputs": [],
   "source": [
    "sam1 = list(sam1.index)"
   ]
  },
  {
   "cell_type": "code",
   "execution_count": 6,
   "metadata": {
    "collapsed": true
   },
   "outputs": [],
   "source": [
    "df.drop(sam1, axis=1,inplace=True)"
   ]
  },
  {
   "cell_type": "code",
   "execution_count": 7,
   "metadata": {},
   "outputs": [
    {
     "data": {
      "text/plain": [
       "499"
      ]
     },
     "execution_count": 7,
     "metadata": {},
     "output_type": "execute_result"
    }
   ],
   "source": [
    "#除外する部品数\n",
    "len(sam1)"
   ]
  },
  {
   "cell_type": "markdown",
   "metadata": {
    "collapsed": true
   },
   "source": [
    "### 100部品を含まない受付NOを除外"
   ]
  },
  {
   "cell_type": "code",
   "execution_count": 7,
   "metadata": {
    "collapsed": true
   },
   "outputs": [],
   "source": [
    "sam2 = df.iloc[:, 3:].sum(axis=1)"
   ]
  },
  {
   "cell_type": "code",
   "execution_count": 9,
   "metadata": {
    "collapsed": true
   },
   "outputs": [],
   "source": [
    "df.drop(list(sam2[sam2==0].index), axis=0,inplace=True)"
   ]
  },
  {
   "cell_type": "code",
   "execution_count": 10,
   "metadata": {
    "collapsed": true
   },
   "outputs": [],
   "source": [
    "df.drop('修理依頼内容',axis=1,inplace=True)"
   ]
  },
  {
   "cell_type": "code",
   "execution_count": 11,
   "metadata": {
    "collapsed": true
   },
   "outputs": [],
   "source": [
    "#ラベルエンコーディング\n",
    "from sklearn.preprocessing import LabelEncoder\n",
    "#LabelEncoderのインスタンスを生成\n",
    "le = LabelEncoder()\n",
    "#ラベルを覚えさせる\n",
    "le = le.fit(df['大現象名'])\n",
    "#ラベルを整数に変換\n",
    "df['大現象名'] = le.transform(df['大現象名'])"
   ]
  },
  {
   "cell_type": "code",
   "execution_count": 12,
   "metadata": {
    "collapsed": true
   },
   "outputs": [],
   "source": [
    "#LabelEncoderのインスタンスを生成\n",
    "le1 = LabelEncoder()\n",
    "#ラベルを覚えさせる\n",
    "le1 = le1.fit(df['商品品番'])\n",
    "#ラベルを整数に変換\n",
    "df['商品品番'] = le1.transform(df['商品品番'])"
   ]
  },
  {
   "cell_type": "markdown",
   "metadata": {},
   "source": [
    "### 各特徴量の数"
   ]
  },
  {
   "cell_type": "code",
   "execution_count": 31,
   "metadata": {},
   "outputs": [
    {
     "data": {
      "text/plain": [
       "7667"
      ]
     },
     "execution_count": 31,
     "metadata": {},
     "output_type": "execute_result"
    }
   ],
   "source": [
    "len(df.商品品番.unique())"
   ]
  },
  {
   "cell_type": "code",
   "execution_count": 32,
   "metadata": {},
   "outputs": [
    {
     "data": {
      "text/plain": [
       "19"
      ]
     },
     "execution_count": 32,
     "metadata": {},
     "output_type": "execute_result"
    }
   ],
   "source": [
    "len(df.大現象名.unique())"
   ]
  },
  {
   "cell_type": "code",
   "execution_count": 17,
   "metadata": {},
   "outputs": [
    {
     "data": {
      "text/plain": [
       "E53-126        492\n",
       "E43-148        494\n",
       "K100-165       495\n",
       "E63-126B       498\n",
       "H43-350        529\n",
       "             ...  \n",
       "50-1001       8531\n",
       "34-1234       8933\n",
       "50-1001-2     9770\n",
       "50-2318      10871\n",
       "TF-10R-L     33855\n",
       "Length: 99, dtype: int64"
      ]
     },
     "execution_count": 17,
     "metadata": {},
     "output_type": "execute_result"
    }
   ],
   "source": [
    "df.iloc[:, 3:].sum().sort_values()"
   ]
  },
  {
   "cell_type": "code",
   "execution_count": 18,
   "metadata": {},
   "outputs": [
    {
     "data": {
      "text/plain": [
       "0    140299\n",
       "1       492\n",
       "Name: E53-126, dtype: int64"
      ]
     },
     "execution_count": 18,
     "metadata": {},
     "output_type": "execute_result"
    }
   ],
   "source": [
    "df[\"E53-126\"].value_counts()"
   ]
  },
  {
   "cell_type": "code",
   "execution_count": 21,
   "metadata": {},
   "outputs": [
    {
     "data": {
      "text/plain": [
       "0.34945415545027736"
      ]
     },
     "execution_count": 21,
     "metadata": {},
     "output_type": "execute_result"
    }
   ],
   "source": [
    "492/(140299+492)*100"
   ]
  },
  {
   "cell_type": "markdown",
   "metadata": {},
   "source": [
    "# 層化抽出法を用いたK-分割交差検証を用いたダウンサンプリングでモデルを学習\n"
   ]
  },
  {
   "cell_type": "code",
   "execution_count": null,
   "metadata": {
    "collapsed": true
   },
   "outputs": [],
   "source": []
  },
  {
   "cell_type": "markdown",
   "metadata": {},
   "source": [
    "# 100部品のモデルを作成し、精度評価"
   ]
  },
  {
   "cell_type": "code",
   "execution_count": 45,
   "metadata": {},
   "outputs": [
    {
     "data": {
      "text/plain": [
       "<matplotlib.axes._subplots.AxesSubplot at 0x239e8e750b8>"
      ]
     },
     "execution_count": 45,
     "metadata": {},
     "output_type": "execute_result"
    },
    {
     "data": {
      "image/png": "[encoded data removed]",
      "text/plain": [
       "<Figure size 720x576 with 1 Axes>"
      ]
     },
     "metadata": {},
     "output_type": "display_data"
    }
   ],
   "source": [
    "plt.figure(figsize=(10, 8))\n",
    "sns.distplot(df.iloc[:, 2:].sum(), kde=False, rug=False, bins=100)"
   ]
  },
  {
   "cell_type": "code",
   "execution_count": 44,
   "metadata": {
    "collapsed": true
   },
   "outputs": [],
   "source": [
    "buhin = list(df.iloc[:, 2:].sum().sort_values(ascending=False).index)"
   ]
  },
  {
   "cell_type": "code",
   "execution_count": 15,
   "metadata": {
    "collapsed": true
   },
   "outputs": [],
   "source": [
    "#部品保存\n",
    "import pickle\n",
    "f = open('list.txt', 'wb')\n",
    "pickle.dump(buhin, f)"
   ]
  },
  {
   "cell_type": "code",
   "execution_count": 18,
   "metadata": {
    "collapsed": true
   },
   "outputs": [],
   "source": [
    "import pickle\n",
    "f = open('list1.txt', 'wb')\n",
    "pickle.dump(buhin, f)"
   ]
  },
  {
   "cell_type": "code",
   "execution_count": 54,
   "metadata": {},
   "outputs": [
    {
     "data": {
      "text/plain": [
       "count      100.0000\n",
       "mean      2326.2100\n",
       "std       3833.0113\n",
       "min        492.0000\n",
       "25%        739.7500\n",
       "50%       1102.5000\n",
       "75%       2486.2500\n",
       "max      33855.0000\n",
       "dtype: float64"
      ]
     },
     "execution_count": 54,
     "metadata": {},
     "output_type": "execute_result"
    }
   ],
   "source": [
    "df.iloc[:, 2:].sum().describe()"
   ]
  },
  {
   "cell_type": "markdown",
   "metadata": {},
   "source": [
    "## ランダムにリサンプリング"
   ]
  },
  {
   "cell_type": "code",
   "execution_count": 45,
   "metadata": {
    "collapsed": true
   },
   "outputs": [],
   "source": [
    "#結果を格納するデータフレーム\n",
    "result_us = pd.DataFrame(0, columns=[\"F1\",\"F2\",\"F3\",\"F4\",\"F5\"], index=buhin)\n",
    "feature_importance = pd.DataFrame(0, columns=[\"Product\",\"Phenomenon\"], index=buhin)\n",
    "\n"
   ]
  },
  {
   "cell_type": "code",
   "execution_count": 50,
   "metadata": {
    "collapsed": true
   },
   "outputs": [
    {
     "name": "stdout",
     "output_type": "stream",
     "text": [
      "0\n",
      "部品 :TF-10R-L\n",
      "1\n",
      "部品 :50-2318\n",
      "2\n",
      "部品 :50-1001-2\n",
      "3\n",
      "部品 :34-1234\n",
      "4\n",
      "部品 :50-1001\n",
      "5\n",
      "部品 :343-1011D\n",
      "6\n",
      "部品 :TF-20B\n",
      "7\n",
      "部品 :355-1054A\n",
      "8\n",
      "部品 :TK-KA-100\n",
      "9\n",
      "部品 :50-280(1P)\n",
      "10\n",
      "部品 :K30-126A\n",
      "11\n",
      "部品 :A-4939\n",
      "12\n",
      "部品 :343-1008D\n",
      "13\n",
      "部品 :TF-10R-S\n",
      "14\n",
      "部品 :50-156\n",
      "15\n",
      "部品 :331-1012D\n",
      "16\n",
      "部品 :A-4990\n",
      "17\n",
      "部品 :331-1013B\n",
      "18\n",
      "部品 :TF-10A\n",
      "19\n",
      "部品 :351-1038A\n",
      "20\n",
      "部品 :PK-500\n",
      "21\n",
      "部品 :H20-159\n",
      "22\n",
      "部品 :331-1009B\n",
      "23\n",
      "部品 :343-1018\n",
      "24\n",
      "部品 :311-1020\n",
      "25\n",
      "部品 :331-1001\n",
      "26\n",
      "部品 :341-1015A\n",
      "27\n",
      "部品 :343-1001D-PSET\n",
      "28\n",
      "部品 :61-1134\n",
      "29\n",
      "部品 :43-3010\n",
      "30\n",
      "部品 :311-1034\n",
      "31\n",
      "部品 :343-1017\n",
      "32\n",
      "部品 :314-1004\n",
      "33\n",
      "部品 :343-1020A\n",
      "34\n",
      "部品 :313-1010\n",
      "35\n",
      "部品 :314-1001\n",
      "36\n",
      "部品 :A-2186-AH\n",
      "37\n",
      "部品 :H20-126A\n",
      "38\n",
      "部品 :341-1010\n",
      "39\n",
      "部品 :50-15(1P)\n",
      "40\n",
      "部品 :K100-300\n",
      "41\n",
      "部品 :A-6021\n",
      "42\n",
      "部品 :343-1001B-PSET\n",
      "43\n",
      "部品 :50-186\n",
      "44\n",
      "部品 :343-1001D\n",
      "45\n",
      "部品 :A-2187\n",
      "46\n",
      "部品 :341-1021\n",
      "47\n",
      "部品 :A-4625A\n",
      "48\n",
      "部品 :50-528\n",
      "49\n",
      "部品 :K100-126A\n",
      "50\n",
      "部品 :34-1234-10\n",
      "51\n",
      "部品 :A-5897\n",
      "52\n",
      "部品 :K100-350\n",
      "53\n",
      "部品 :213-1020\n",
      "54\n",
      "部品 :343-1010C\n",
      "55\n",
      "部品 :H30-300\n",
      "56\n",
      "部品 :AT-1006\n",
      "57\n",
      "部品 :CF-930DB\n",
      "58\n",
      "部品 :50-195-10(1P)\n",
      "59\n",
      "部品 :A-4994\n",
      "60\n",
      "部品 :CWA-29\n",
      "61\n",
      "部品 :H20-126\n",
      "62\n",
      "部品 :313-1031A\n",
      "63\n",
      "部品 :341-1039\n",
      "64\n",
      "部品 :355-1078A\n",
      "65\n",
      "部品 :313-1016\n",
      "66\n",
      "部品 :A-2028-AH\n",
      "67\n",
      "部品 :A-3665\n",
      "68\n",
      "部品 :H32-139\n",
      "69\n",
      "部品 :343-1031\n",
      "70\n",
      "部品 :314-1005\n",
      "71\n",
      "部品 :41-1254\n",
      "72\n",
      "部品 :A-4989\n",
      "73\n",
      "部品 :343-1001B\n",
      "74\n",
      "部品 :A-6858\n",
      "75\n",
      "部品 :A-4025\n",
      "76\n",
      "部品 :314-1021\n",
      "77\n",
      "部品 :343-1010C-PSET\n",
      "78\n",
      "部品 :KA22-350\n",
      "79\n",
      "部品 :314-1010\n",
      "80\n",
      "部品 :H20-112\n",
      "81\n",
      "部品 :E49-112\n",
      "82\n",
      "部品 :331-1005\n",
      "83\n",
      "部品 :H20-122\n",
      "84\n",
      "部品 :341-1027\n",
      "85\n",
      "部品 :323-1005\n",
      "86\n",
      "部品 :A-3334\n",
      "87\n",
      "部品 :351-1132E-MSET\n",
      "88\n",
      "部品 :323-1044\n",
      "89\n",
      "部品 :313-1022\n",
      "90\n",
      "部品 :A-7750-1\n",
      "91\n",
      "部品 :323-1013\n",
      "92\n",
      "部品 :351-1056-1\n",
      "93\n",
      "部品 :KA22-159\n",
      "94\n",
      "部品 :331-1026\n",
      "95\n",
      "部品 :H43-350\n",
      "96\n",
      "部品 :E63-126B\n",
      "97\n",
      "部品 :K100-165\n",
      "98\n",
      "部品 :E43-148\n",
      "99\n",
      "部品 :E53-126\n"
     ]
    }
   ],
   "source": [
    "skf = StratifiedKFold(n_splits=5, shuffle=True, random_state=42)\n",
    "X = df.loc[:, '商品品番':'大現象名'].values\n",
    "\n",
    "for count,i in enumerate(buhin):\n",
    "    \n",
    "    sum_pro = 0.0\n",
    "    sum_phe = 0.0\n",
    "    \n",
    "    y = df.loc[:,i]\n",
    "    \n",
    "    print(count)\n",
    "    print('部品 :{}'.format(i))\n",
    "\n",
    "    for k,(train_index, test_index) in enumerate(skf.split(X, y)):\n",
    "\n",
    "    #     print(y[train_index].value_counts())\n",
    "\n",
    "#         print(k)\n",
    "#         print(i)\n",
    "    \n",
    "        X_train, X_test = X[train_index], X[test_index]\n",
    "        y_train, y_test = y[train_index], y[test_index]\n",
    "\n",
    "        \n",
    "        if i == \"TF-10R-L\":\n",
    "            \n",
    "              # ランダムフォレストにて学習\n",
    "            rfc = RandomForestClassifier(random_state=0)\n",
    "            rfc.fit(X_train ,y_train)\n",
    "            y_pred = rfc.predict(X_test)\n",
    "\n",
    "            #F値を格納\n",
    "            result_us.loc[i,\"F{}\".format(k+1)] = f1_score(y_test, rfc.predict(X_test))\n",
    "            \n",
    "        \n",
    "        else:\n",
    "        \n",
    "            positive_count_train = y_train.sum()\n",
    "\n",
    "            rus = RandomUnderSampler(ratio={0:positive_count_train*9, 1:positive_count_train}, random_state=0)\n",
    "            X_train_resampled, y_train_resampled = rus.fit_sample(X_train, y_train)\n",
    "\n",
    "\n",
    "    #         print('y_train_sample:\\n{}'.format(pd.Series(y_train).value_counts()))\n",
    "    #         print('y_train_resample:\\n{}'.format(pd.Series(y_train_resampled).value_counts()))\n",
    "    #         print('y_test_sample:\\n{}'.format(pd.Series(y_test).value_counts()))\n",
    "\n",
    "               # ランダムフォレストにて学習\n",
    "            rfc = RandomForestClassifier(random_state=0)\n",
    "            rfc.fit(X_train_resampled, y_train_resampled)\n",
    "            y_pred = rfc.predict(X_test)\n",
    "\n",
    "    #         print('f1 score: {:.4f}'.format(f1_score(y_test, y_pred)))\n",
    "\n",
    "            #F値を格納\n",
    "            result_us.loc[i,\"F{}\".format(k+1)] = f1_score(y_test, rfc.predict(X_test))\n",
    "        \n",
    "        \n",
    "        #特徴量の重要度\n",
    "        #商品品番\n",
    "        pro = rfc.feature_importances_[0]\n",
    "    \n",
    "        #大現象名\n",
    "        phe = rfc.feature_importances_[1]\n",
    "\n",
    "        sum_pro = sum_pro + pro\n",
    "        sum_phe = sum_phe + phe\n",
    "\n",
    "    #特徴量重要度を格納\n",
    "    feature_importance.loc[i,\"Product\"] = sum_pro/5\n",
    "    feature_importance.loc[i,\"Phenomenon\"] = sum_phe/5\n",
    "     "
   ]
  },
  {
   "cell_type": "code",
   "execution_count": 51,
   "metadata": {
    "collapsed": true
   },
   "outputs": [],
   "source": [
    "result_us[\"F mean\"] = result_us.mean(axis=1)"
   ]
  },
  {
   "cell_type": "markdown",
   "metadata": {
    "collapsed": true
   },
   "source": [
    "## Tomek links"
   ]
  },
  {
   "cell_type": "code",
   "execution_count": 22,
   "metadata": {
    "collapsed": true
   },
   "outputs": [],
   "source": [
    "#結果を格納するデータフレーム\n",
    "result_tomek = pd.DataFrame(0, columns=[\"F1\",\"F2\",\"F3\",\"F4\",\"F5\"], index=buhin)"
   ]
  },
  {
   "cell_type": "code",
   "execution_count": 55,
   "metadata": {
    "collapsed": true
   },
   "outputs": [
    {
     "name": "stdout",
     "output_type": "stream",
     "text": [
      "0\n",
      "部品 :TF-10R-L\n",
      "1\n",
      "部品 :50-2318\n",
      "2\n",
      "部品 :50-1001-2\n",
      "3\n",
      "部品 :34-1234\n",
      "4\n",
      "部品 :50-1001\n",
      "5\n",
      "部品 :343-1011D\n",
      "6\n",
      "部品 :TF-20B\n",
      "7\n",
      "部品 :355-1054A\n",
      "8\n",
      "部品 :TK-KA-100\n",
      "9\n",
      "部品 :50-280(1P)\n",
      "10\n",
      "部品 :K30-126A\n",
      "11\n",
      "部品 :A-4939\n",
      "12\n",
      "部品 :343-1008D\n",
      "13\n",
      "部品 :TF-10R-S\n",
      "14\n",
      "部品 :50-156\n",
      "15\n",
      "部品 :331-1012D\n",
      "16\n",
      "部品 :A-4990\n",
      "17\n",
      "部品 :331-1013B\n",
      "18\n",
      "部品 :TF-10A\n",
      "19\n",
      "部品 :351-1038A\n",
      "20\n",
      "部品 :PK-500\n",
      "21\n",
      "部品 :H20-159\n",
      "22\n",
      "部品 :331-1009B\n",
      "23\n",
      "部品 :343-1018\n",
      "24\n",
      "部品 :311-1020\n",
      "25\n",
      "部品 :331-1001\n",
      "26\n",
      "部品 :341-1015A\n",
      "27\n",
      "部品 :343-1001D-PSET\n",
      "28\n",
      "部品 :61-1134\n",
      "29\n",
      "部品 :43-3010\n",
      "30\n",
      "部品 :311-1034\n",
      "31\n",
      "部品 :343-1017\n",
      "32\n",
      "部品 :314-1004\n",
      "33\n",
      "部品 :343-1020A\n",
      "34\n",
      "部品 :313-1010\n",
      "35\n",
      "部品 :314-1001\n",
      "36\n",
      "部品 :A-2186-AH\n",
      "37\n",
      "部品 :H20-126A\n",
      "38\n",
      "部品 :341-1010\n",
      "39\n",
      "部品 :50-15(1P)\n",
      "40\n",
      "部品 :K100-300\n",
      "41\n",
      "部品 :A-6021\n",
      "42\n",
      "部品 :343-1001B-PSET\n",
      "43\n",
      "部品 :50-186\n",
      "44\n",
      "部品 :343-1001D\n",
      "45\n",
      "部品 :A-2187\n",
      "46\n",
      "部品 :341-1021\n",
      "47\n",
      "部品 :A-4625A\n",
      "48\n",
      "部品 :50-528\n",
      "49\n",
      "部品 :K100-126A\n",
      "50\n",
      "部品 :34-1234-10\n",
      "51\n",
      "部品 :A-5897\n",
      "52\n",
      "部品 :K100-350\n",
      "53\n",
      "部品 :213-1020\n",
      "54\n",
      "部品 :343-1010C\n",
      "55\n",
      "部品 :H30-300\n",
      "56\n",
      "部品 :AT-1006\n",
      "57\n",
      "部品 :CF-930DB\n",
      "58\n",
      "部品 :50-195-10(1P)\n",
      "59\n",
      "部品 :A-4994\n",
      "60\n",
      "部品 :CWA-29\n",
      "61\n",
      "部品 :H20-126\n",
      "62\n",
      "部品 :313-1031A\n",
      "63\n",
      "部品 :341-1039\n",
      "64\n",
      "部品 :355-1078A\n",
      "65\n",
      "部品 :313-1016\n",
      "66\n",
      "部品 :A-2028-AH\n",
      "67\n",
      "部品 :A-3665\n",
      "68\n",
      "部品 :H32-139\n",
      "69\n",
      "部品 :343-1031\n",
      "70\n",
      "部品 :314-1005\n",
      "71\n",
      "部品 :41-1254\n",
      "72\n",
      "部品 :A-4989\n",
      "73\n",
      "部品 :343-1001B\n",
      "74\n",
      "部品 :A-6858\n",
      "75\n",
      "部品 :A-4025\n",
      "76\n",
      "部品 :314-1021\n",
      "77\n",
      "部品 :343-1010C-PSET\n",
      "78\n",
      "部品 :KA22-350\n",
      "79\n",
      "部品 :314-1010\n",
      "80\n",
      "部品 :H20-112\n",
      "81\n",
      "部品 :E49-112\n",
      "82\n",
      "部品 :331-1005\n",
      "83\n",
      "部品 :H20-122\n",
      "84\n",
      "部品 :341-1027\n",
      "85\n",
      "部品 :323-1005\n",
      "86\n",
      "部品 :A-3334\n",
      "87\n",
      "部品 :351-1132E-MSET\n",
      "88\n",
      "部品 :323-1044\n",
      "89\n",
      "部品 :313-1022\n",
      "90\n",
      "部品 :A-7750-1\n",
      "91\n",
      "部品 :323-1013\n",
      "92\n",
      "部品 :351-1056-1\n",
      "93\n",
      "部品 :KA22-159\n",
      "94\n",
      "部品 :331-1026\n",
      "95\n",
      "部品 :H43-350\n",
      "96\n",
      "部品 :E63-126B\n",
      "97\n",
      "部品 :K100-165\n",
      "98\n",
      "部品 :E43-148\n",
      "99\n",
      "部品 :E53-126\n"
     ]
    }
   ],
   "source": [
    "skf = StratifiedKFold(n_splits=5, shuffle=True, random_state=42)\n",
    "X = df.loc[:, '商品品番':'大現象名'].values\n",
    "\n",
    "for count,i in enumerate(buhin):\n",
    "    \n",
    "    y = df.loc[:,i]\n",
    "    \n",
    "    print(count)\n",
    "    print('部品 :{}'.format(i))\n",
    "\n",
    "    for k,(train_index, test_index) in enumerate(skf.split(X, y)):\n",
    "\n",
    "    #     print(y[train_index].value_counts())\n",
    "\n",
    "#         print(k)\n",
    "#         print(i)\n",
    "    \n",
    "        X_train, X_test = X[train_index], X[test_index]\n",
    "        y_train, y_test = y[train_index], y[test_index]\n",
    "\n",
    "        positive_count_train = y_train.sum()\n",
    "\n",
    "        #     'majority'：多数決クラスのみをリサンプリング\n",
    "        tl = TomekLinks(ratio='majority',random_state=0)\n",
    "    \n",
    "        X_train_resampled, y_train_resampled = tl.fit_sample(X_train, y_train)\n",
    "\n",
    "\n",
    "#         print('y_train_sample:\\n{}'.format(pd.Series(y_train).value_counts()))\n",
    "#         print('y_train_resample:\\n{}'.format(pd.Series(y_train_resampled).value_counts()))\n",
    "#         print('y_test_sample:\\n{}'.format(pd.Series(y_test).value_counts()))\n",
    "\n",
    "           # ランダムフォレストにて学習\n",
    "        rfc = RandomForestClassifier(random_state=0)\n",
    "        rfc.fit(X_train_resampled, y_train_resampled)\n",
    "        y_pred = rfc.predict(X_test)\n",
    "\n",
    "#         print('f1 score: {:.4f}'.format(f1_score(y_test, y_pred)))\n",
    "        \n",
    "        #F値を格納\n",
    "        result_tomek.loc[i,\"F{}\".format(k+1)] = f1_score(y_test, rfc.predict(X_test))"
   ]
  },
  {
   "cell_type": "code",
   "execution_count": 56,
   "metadata": {
    "collapsed": true
   },
   "outputs": [],
   "source": [
    "result_tomek[\"tomek F mean\"] = result_tomek.mean(axis=1)"
   ]
  },
  {
   "cell_type": "markdown",
   "metadata": {},
   "source": [
    "## ダウンサンプリングなし"
   ]
  },
  {
   "cell_type": "code",
   "execution_count": 58,
   "metadata": {
    "collapsed": true
   },
   "outputs": [],
   "source": [
    "#結果を格納するデータフレーム\n",
    "result = pd.DataFrame(0, columns=[\"F1\",\"F2\",\"F3\",\"F4\",\"F5\"], index=buhin)"
   ]
  },
  {
   "cell_type": "code",
   "execution_count": 59,
   "metadata": {
    "collapsed": true
   },
   "outputs": [
    {
     "name": "stdout",
     "output_type": "stream",
     "text": [
      "部品 :TF-10R-L\n",
      "部品 :50-2318\n",
      "部品 :50-1001-2\n",
      "部品 :34-1234\n",
      "部品 :50-1001\n",
      "部品 :343-1011D\n",
      "部品 :TF-20B\n",
      "部品 :355-1054A\n",
      "部品 :TK-KA-100\n",
      "部品 :50-280(1P)\n",
      "部品 :K30-126A\n",
      "部品 :A-4939\n",
      "部品 :343-1008D\n",
      "部品 :TF-10R-S\n",
      "部品 :50-156\n",
      "部品 :331-1012D\n",
      "部品 :A-4990\n",
      "部品 :331-1013B\n",
      "部品 :TF-10A\n",
      "部品 :351-1038A\n",
      "部品 :PK-500\n",
      "部品 :H20-159\n",
      "部品 :331-1009B\n",
      "部品 :343-1018\n",
      "部品 :311-1020\n",
      "部品 :331-1001\n",
      "部品 :341-1015A\n",
      "部品 :343-1001D-PSET\n",
      "部品 :61-1134\n",
      "部品 :43-3010\n",
      "部品 :311-1034\n",
      "部品 :343-1017\n",
      "部品 :314-1004\n",
      "部品 :343-1020A\n",
      "部品 :313-1010\n",
      "部品 :314-1001\n",
      "部品 :A-2186-AH\n",
      "部品 :H20-126A\n",
      "部品 :341-1010\n",
      "部品 :50-15(1P)\n",
      "部品 :K100-300\n",
      "部品 :A-6021\n",
      "部品 :343-1001B-PSET\n",
      "部品 :50-186\n",
      "部品 :343-1001D\n",
      "部品 :A-2187\n",
      "部品 :341-1021\n",
      "部品 :A-4625A\n",
      "部品 :50-528\n",
      "部品 :K100-126A\n",
      "部品 :34-1234-10\n",
      "部品 :A-5897\n",
      "部品 :K100-350\n",
      "部品 :213-1020\n",
      "部品 :343-1010C\n",
      "部品 :H30-300\n",
      "部品 :AT-1006\n",
      "部品 :CF-930DB\n",
      "部品 :50-195-10(1P)\n",
      "部品 :A-4994\n",
      "部品 :CWA-29\n",
      "部品 :H20-126\n",
      "部品 :313-1031A\n",
      "部品 :341-1039\n",
      "部品 :355-1078A\n",
      "部品 :313-1016\n",
      "部品 :A-2028-AH\n",
      "部品 :A-3665\n",
      "部品 :H32-139\n",
      "部品 :343-1031\n",
      "部品 :314-1005\n",
      "部品 :41-1254\n",
      "部品 :A-4989\n",
      "部品 :343-1001B\n",
      "部品 :A-6858\n",
      "部品 :A-4025\n",
      "部品 :314-1021\n",
      "部品 :343-1010C-PSET\n",
      "部品 :KA22-350\n",
      "部品 :314-1010\n",
      "部品 :H20-112\n",
      "部品 :E49-112\n",
      "部品 :331-1005\n",
      "部品 :H20-122\n",
      "部品 :341-1027\n",
      "部品 :323-1005\n",
      "部品 :A-3334\n",
      "部品 :351-1132E-MSET\n",
      "部品 :323-1044\n",
      "部品 :313-1022\n",
      "部品 :A-7750-1\n",
      "部品 :323-1013\n",
      "部品 :351-1056-1\n",
      "部品 :KA22-159\n",
      "部品 :331-1026\n",
      "部品 :H43-350\n",
      "部品 :E63-126B\n",
      "部品 :K100-165\n",
      "部品 :E43-148\n",
      "部品 :E53-126\n"
     ]
    }
   ],
   "source": [
    "skf = StratifiedKFold(n_splits=5, shuffle=True, random_state=42)\n",
    "X = df.loc[:, '商品品番':'大現象名'].values\n",
    "\n",
    "for i in buhin:\n",
    "    \n",
    "    y = df.loc[:,i]\n",
    "    \n",
    "    print('部品 :{}'.format(i))\n",
    "\n",
    "    for k,(train_index, test_index) in enumerate(skf.split(X, y)):\n",
    "\n",
    "    #     print(y[train_index].value_counts())\n",
    "\n",
    "#         print(k)\n",
    "#         print(i)\n",
    "    \n",
    "        X_train, X_test = X[train_index], X[test_index]\n",
    "        y_train, y_test = y[train_index], y[test_index]\n",
    "\n",
    "\n",
    "           # ランダムフォレストにて学習\n",
    "        rfc = RandomForestClassifier(random_state=0)\n",
    "        rfc.fit(X_train, y_train)\n",
    "        y_pred = rfc.predict(X_test)\n",
    "\n",
    "#         print('f1 score: {:.4f}'.format(f1_score(y_test, y_pred)))\n",
    "        \n",
    "        #F値を格納\n",
    "        result.loc[i,\"F{}\".format(k+1)] = f1_score(y_test, rfc.predict(X_test))"
   ]
  },
  {
   "cell_type": "code",
   "execution_count": 60,
   "metadata": {
    "collapsed": true
   },
   "outputs": [],
   "source": [
    "result[\"noresumple F mean\"] = result.mean(axis=1)"
   ]
  },
  {
   "cell_type": "code",
   "execution_count": 65,
   "metadata": {
    "collapsed": true
   },
   "outputs": [],
   "source": [
    "result_base = pd.concat([result[\"noresumple F mean\"], result_us[\"F mean\"],result_tomek[\"tomek F mean\"]], axis=1)"
   ]
  },
  {
   "cell_type": "code",
   "execution_count": 66,
   "metadata": {
    "collapsed": true
   },
   "outputs": [],
   "source": [
    "result_base.to_csv(\"result_base.csv\")"
   ]
  },
  {
   "cell_type": "code",
   "execution_count": 53,
   "metadata": {
    "collapsed": true
   },
   "outputs": [],
   "source": [
    "result_us[\"F mean\"] = result_us.mean(axis=1)"
   ]
  },
  {
   "cell_type": "code",
   "execution_count": 54,
   "metadata": {
    "collapsed": true
   },
   "outputs": [
    {
     "data": {
      "text/html": [
       "<div>\n",
       "<style scoped>\n",
       "    .dataframe tbody tr th:only-of-type {\n",
       "        vertical-align: middle;\n",
       "    }\n",
       "\n",
       "    .dataframe tbody tr th {\n",
       "        vertical-align: top;\n",
       "    }\n",
       "\n",
       "    .dataframe thead th {\n",
       "        text-align: right;\n",
       "    }\n",
       "</style>\n",
       "<table border=\"1\" class=\"dataframe\">\n",
       "  <thead>\n",
       "    <tr style=\"text-align: right;\">\n",
       "      <th></th>\n",
       "      <th>F1</th>\n",
       "      <th>F2</th>\n",
       "      <th>F3</th>\n",
       "      <th>F4</th>\n",
       "      <th>F5</th>\n",
       "      <th>F mean</th>\n",
       "    </tr>\n",
       "  </thead>\n",
       "  <tbody>\n",
       "    <tr>\n",
       "      <td>TF-10R-L</td>\n",
       "      <td>0.750000</td>\n",
       "      <td>0.760563</td>\n",
       "      <td>0.758509</td>\n",
       "      <td>0.759738</td>\n",
       "      <td>0.759662</td>\n",
       "      <td>0.757695</td>\n",
       "    </tr>\n",
       "    <tr>\n",
       "      <td>50-2318</td>\n",
       "      <td>0.817645</td>\n",
       "      <td>0.823802</td>\n",
       "      <td>0.816525</td>\n",
       "      <td>0.809068</td>\n",
       "      <td>0.819749</td>\n",
       "      <td>0.817358</td>\n",
       "    </tr>\n",
       "    <tr>\n",
       "      <td>50-1001-2</td>\n",
       "      <td>0.180762</td>\n",
       "      <td>0.166545</td>\n",
       "      <td>0.181754</td>\n",
       "      <td>0.182474</td>\n",
       "      <td>0.168498</td>\n",
       "      <td>0.176007</td>\n",
       "    </tr>\n",
       "    <tr>\n",
       "      <td>34-1234</td>\n",
       "      <td>0.558644</td>\n",
       "      <td>0.558582</td>\n",
       "      <td>0.555297</td>\n",
       "      <td>0.558501</td>\n",
       "      <td>0.561002</td>\n",
       "      <td>0.558405</td>\n",
       "    </tr>\n",
       "    <tr>\n",
       "      <td>50-1001</td>\n",
       "      <td>0.281605</td>\n",
       "      <td>0.275910</td>\n",
       "      <td>0.282264</td>\n",
       "      <td>0.286850</td>\n",
       "      <td>0.266571</td>\n",
       "      <td>0.278640</td>\n",
       "    </tr>\n",
       "    <tr>\n",
       "      <td>...</td>\n",
       "      <td>...</td>\n",
       "      <td>...</td>\n",
       "      <td>...</td>\n",
       "      <td>...</td>\n",
       "      <td>...</td>\n",
       "      <td>...</td>\n",
       "    </tr>\n",
       "    <tr>\n",
       "      <td>H43-350</td>\n",
       "      <td>0.297810</td>\n",
       "      <td>0.297059</td>\n",
       "      <td>0.284542</td>\n",
       "      <td>0.321027</td>\n",
       "      <td>0.318328</td>\n",
       "      <td>0.303753</td>\n",
       "    </tr>\n",
       "    <tr>\n",
       "      <td>E63-126B</td>\n",
       "      <td>0.900901</td>\n",
       "      <td>0.844828</td>\n",
       "      <td>0.862222</td>\n",
       "      <td>0.831858</td>\n",
       "      <td>0.853448</td>\n",
       "      <td>0.858651</td>\n",
       "    </tr>\n",
       "    <tr>\n",
       "      <td>K100-165</td>\n",
       "      <td>0.233645</td>\n",
       "      <td>0.204836</td>\n",
       "      <td>0.227474</td>\n",
       "      <td>0.228412</td>\n",
       "      <td>0.244898</td>\n",
       "      <td>0.227853</td>\n",
       "    </tr>\n",
       "    <tr>\n",
       "      <td>E43-148</td>\n",
       "      <td>0.564706</td>\n",
       "      <td>0.614379</td>\n",
       "      <td>0.605096</td>\n",
       "      <td>0.559271</td>\n",
       "      <td>0.508021</td>\n",
       "      <td>0.570294</td>\n",
       "    </tr>\n",
       "    <tr>\n",
       "      <td>E53-126</td>\n",
       "      <td>0.523677</td>\n",
       "      <td>0.537143</td>\n",
       "      <td>0.498674</td>\n",
       "      <td>0.541787</td>\n",
       "      <td>0.459330</td>\n",
       "      <td>0.512122</td>\n",
       "    </tr>\n",
       "  </tbody>\n",
       "</table>\n",
       "<p>100 rows × 6 columns</p>\n",
       "</div>"
      ],
      "text/plain": [
       "                 F1        F2        F3        F4        F5    F mean\n",
       "TF-10R-L   0.750000  0.760563  0.758509  0.759738  0.759662  0.757695\n",
       "50-2318    0.817645  0.823802  0.816525  0.809068  0.819749  0.817358\n",
       "50-1001-2  0.180762  0.166545  0.181754  0.182474  0.168498  0.176007\n",
       "34-1234    0.558644  0.558582  0.555297  0.558501  0.561002  0.558405\n",
       "50-1001    0.281605  0.275910  0.282264  0.286850  0.266571  0.278640\n",
       "...             ...       ...       ...       ...       ...       ...\n",
       "H43-350    0.297810  0.297059  0.284542  0.321027  0.318328  0.303753\n",
       "E63-126B   0.900901  0.844828  0.862222  0.831858  0.853448  0.858651\n",
       "K100-165   0.233645  0.204836  0.227474  0.228412  0.244898  0.227853\n",
       "E43-148    0.564706  0.614379  0.605096  0.559271  0.508021  0.570294\n",
       "E53-126    0.523677  0.537143  0.498674  0.541787  0.459330  0.512122\n",
       "\n",
       "[100 rows x 6 columns]"
      ]
     },
     "execution_count": 54,
     "metadata": {},
     "output_type": "execute_result"
    }
   ],
   "source": [
    "result_us"
   ]
  },
  {
   "cell_type": "code",
   "execution_count": 59,
   "metadata": {
    "collapsed": true
   },
   "outputs": [],
   "source": [
    "feature_importance = pd.concat([result_us[\"F mean\"],feature_importance], axis=1)"
   ]
  },
  {
   "cell_type": "code",
   "execution_count": 60,
   "metadata": {
    "collapsed": true
   },
   "outputs": [],
   "source": [
    "feature_importance.to_csv(\"feature_importance.csv\")"
   ]
  },
  {
   "cell_type": "code",
   "execution_count": null,
   "metadata": {
    "collapsed": true
   },
   "outputs": [],
   "source": []
  }
 ],
 "metadata": {
  "kernelspec": {
   "display_name": "Python 3",
   "language": "python",
   "name": "python3"
  },
  "language_info": {
   "codemirror_mode": {
    "name": "ipython",
    "version": 3
   },
   "file_extension": ".py",
   "mimetype": "text/x-python",
   "name": "python",
   "nbconvert_exporter": "python",
   "pygments_lexer": "ipython3",
   "version": "3.6.3"
  }
 },
 "nbformat": 4,
 "nbformat_minor": 2
}
